{
 "cells": [
  {
   "cell_type": "code",
   "execution_count": 1,
   "id": "c700fd40",
   "metadata": {},
   "outputs": [
    {
     "name": "stderr",
     "output_type": "stream",
     "text": [
      "/Users/gauravshukla/Library/Python/3.9/lib/python/site-packages/urllib3/__init__.py:35: NotOpenSSLWarning: urllib3 v2 only supports OpenSSL 1.1.1+, currently the 'ssl' module is compiled with 'LibreSSL 2.8.3'. See: https://github.com/urllib3/urllib3/issues/3020\n",
      "  warnings.warn(\n"
     ]
    }
   ],
   "source": [
    "import requests\n",
    "from bs4 import BeautifulSoup\n",
    "from urllib.request import urlopen as uReq\n",
    "import logging\n",
    "import os"
   ]
  },
  {
   "cell_type": "code",
   "execution_count": 4,
   "id": "dca3943a",
   "metadata": {},
   "outputs": [],
   "source": [
    "save_dir=\"images/\"\n",
    "if not os.path.exists(save_dir):\n",
    " os.makedirs(save_dir)"
   ]
  },
  {
   "cell_type": "code",
   "execution_count": 5,
   "id": "c8b94c28",
   "metadata": {},
   "outputs": [],
   "source": [
    "headers={\"user-agent\":\"Mozilla/5.0 (Macintosh; Intel Mac OS X 10_14_6) AppleWebKit/537.36 (KHTML, like Gecko) Chrome/135.0.0.0 Safari/537.36\"}"
   ]
  },
  {
   "cell_type": "code",
   "execution_count": 9,
   "id": "7ccebd8c",
   "metadata": {},
   "outputs": [],
   "source": [
    "query=\"narendra modi\"\n",
    "response = requests.get(f\"https://www.google.com/search?q={query}&sca_esv=b897ea522cee66a6&udm=2&biw=1373&bih=693&sxsrf=AHTn8zpzOrUj3NBW3M-eO-mEv14H3fMNrA%3A1745832509203&ei=PUoPaLWODOjF4-EPuLPd6Qw&ved=0ahUKEwj1oLH0tPqMAxXo4jgGHbhZN80Q4dUDCBE&uact=5&oq=gaurav+shukla&gs_lp=EgNpbWciDWdhdXJhdiBzaHVrbGEyChAAGIAEGEMYigUyBhAAGAcYHjIFEAAYgAQyBhAAGAcYHjIFEAAYgAQyBRAAGIAEMgUQABiABDIFEAAYgAQyBRAAGIAEMgUQABiABEj5C1AAWABwA3gAkAEAmAEAoAEAqgEAuAEDyAEAmAIDoAIWmAMAiAYBkgcBM6AHALIHALgHAA&sclient=img\")"
   ]
  },
  {
   "cell_type": "code",
   "execution_count": 11,
   "id": "be3f0dae",
   "metadata": {},
   "outputs": [],
   "source": [
    "soup=BeautifulSoup(response.content,'html.parser')"
   ]
  },
  {
   "cell_type": "code",
   "execution_count": 13,
   "id": "a9fc5e0d",
   "metadata": {},
   "outputs": [],
   "source": [
    "image_tag=soup.find_all('img')"
   ]
  },
  {
   "cell_type": "code",
   "execution_count": 14,
   "id": "7c32830b",
   "metadata": {},
   "outputs": [
    {
     "data": {
      "text/plain": [
       "21"
      ]
     },
     "execution_count": 14,
     "metadata": {},
     "output_type": "execute_result"
    }
   ],
   "source": [
    "len(image_tag)"
   ]
  },
  {
   "cell_type": "code",
   "execution_count": 15,
   "id": "16774731",
   "metadata": {},
   "outputs": [],
   "source": [
    "del image_tag[0]"
   ]
  },
  {
   "cell_type": "code",
   "execution_count": 18,
   "id": "d4f5751c",
   "metadata": {},
   "outputs": [],
   "source": [
    "img_data_mongo=[]\n",
    "for i in image_tag:\n",
    "    image_url=i['src']\n",
    "    image_data=requests.get(image_url).content\n",
    "    my_dict={'name':image_url,'image':image_data}\n",
    "    img_data_mongo.append(my_dict)\n",
    "    with open(os.path.join(save_dir,f\"{query}_{image_tag.index(i)}.jpg\"),'wb') as f:\n",
    "        f.write(image_data )\n",
    "     "
   ]
  },
  {
   "cell_type": "code",
   "execution_count": null,
   "id": "d5719a20",
   "metadata": {},
   "outputs": [],
   "source": []
  }
 ],
 "metadata": {
  "kernelspec": {
   "display_name": "Python 3",
   "language": "python",
   "name": "python3"
  },
  "language_info": {
   "codemirror_mode": {
    "name": "ipython",
    "version": 3
   },
   "file_extension": ".py",
   "mimetype": "text/x-python",
   "name": "python",
   "nbconvert_exporter": "python",
   "pygments_lexer": "ipython3",
   "version": "3.9.6"
  }
 },
 "nbformat": 4,
 "nbformat_minor": 5
}

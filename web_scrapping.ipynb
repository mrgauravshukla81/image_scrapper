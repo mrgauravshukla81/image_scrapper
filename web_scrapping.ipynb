{
 "cells": [
  {
   "cell_type": "code",
   "execution_count": 180,
   "id": "3417f2f2",
   "metadata": {},
   "outputs": [
    {
     "name": "stderr",
     "output_type": "stream",
     "text": [
      "335903.18s - pydevd: Sending message related to process being replaced timed-out after 5 seconds\n"
     ]
    },
    {
     "name": "stdout",
     "output_type": "stream",
     "text": [
      "Defaulting to user installation because normal site-packages is not writeable\n",
      "Requirement already satisfied: requests in /Users/gauravshukla/Library/Python/3.9/lib/python/site-packages (2.32.3)\n",
      "Requirement already satisfied: urllib3<3,>=1.21.1 in /Users/gauravshukla/Library/Python/3.9/lib/python/site-packages (from requests) (2.4.0)\n",
      "Requirement already satisfied: charset-normalizer<4,>=2 in /Users/gauravshukla/Library/Python/3.9/lib/python/site-packages (from requests) (3.4.1)\n",
      "Requirement already satisfied: idna<4,>=2.5 in /Users/gauravshukla/Library/Python/3.9/lib/python/site-packages (from requests) (3.10)\n",
      "Requirement already satisfied: certifi>=2017.4.17 in /Users/gauravshukla/Library/Python/3.9/lib/python/site-packages (from requests) (2025.1.31)\n",
      "\u001b[33mWARNING: You are using pip version 21.2.4; however, version 25.0.1 is available.\n",
      "You should consider upgrading via the '/Applications/Xcode.app/Contents/Developer/usr/bin/python3 -m pip install --upgrade pip' command.\u001b[0m\n",
      "Note: you may need to restart the kernel to use updated packages.\n"
     ]
    }
   ],
   "source": [
    "pip install requests\n"
   ]
  },
  {
   "cell_type": "code",
   "execution_count": 181,
   "id": "11c84de7",
   "metadata": {},
   "outputs": [
    {
     "name": "stderr",
     "output_type": "stream",
     "text": [
      "335911.95s - pydevd: Sending message related to process being replaced timed-out after 5 seconds\n"
     ]
    },
    {
     "name": "stdout",
     "output_type": "stream",
     "text": [
      "Defaulting to user installation because normal site-packages is not writeable\n",
      "Requirement already satisfied: beautifulsoup4 in /Users/gauravshukla/Library/Python/3.9/lib/python/site-packages (4.13.3)\n",
      "Requirement already satisfied: soupsieve>1.2 in /Users/gauravshukla/Library/Python/3.9/lib/python/site-packages (from beautifulsoup4) (2.6)\n",
      "Requirement already satisfied: typing-extensions>=4.0.0 in /Users/gauravshukla/Library/Python/3.9/lib/python/site-packages (from beautifulsoup4) (4.12.2)\n",
      "\u001b[33mWARNING: You are using pip version 21.2.4; however, version 25.0.1 is available.\n",
      "You should consider upgrading via the '/Applications/Xcode.app/Contents/Developer/usr/bin/python3 -m pip install --upgrade pip' command.\u001b[0m\n",
      "Note: you may need to restart the kernel to use updated packages.\n"
     ]
    }
   ],
   "source": [
    "pip install beautifulsoup4\n"
   ]
  },
  {
   "cell_type": "code",
   "execution_count": 182,
   "id": "e168275f",
   "metadata": {},
   "outputs": [],
   "source": [
    "import requests\n",
    "from bs4 import BeautifulSoup as bs\n",
    "from urllib.request import urlopen as uReq\n",
    "import logging"
   ]
  },
  {
   "cell_type": "code",
   "execution_count": 183,
   "id": "5a2c7ad8",
   "metadata": {},
   "outputs": [],
   "source": [
    "flipcart_url=\"https://www.flipkart.com/search?q=\"+\"redmi\""
   ]
  },
  {
   "cell_type": "code",
   "execution_count": 184,
   "id": "c71b8600",
   "metadata": {},
   "outputs": [
    {
     "data": {
      "text/plain": [
       "'https://www.flipkart.com/search?q=redmi'"
      ]
     },
     "execution_count": 184,
     "metadata": {},
     "output_type": "execute_result"
    }
   ],
   "source": [
    "flipcart_url"
   ]
  },
  {
   "cell_type": "code",
   "execution_count": 185,
   "id": "30e1e959",
   "metadata": {},
   "outputs": [],
   "source": [
    "url_client = uReq(flipcart_url)"
   ]
  },
  {
   "cell_type": "code",
   "execution_count": 186,
   "id": "0660cd40",
   "metadata": {},
   "outputs": [],
   "source": [
    "flipcart_page=url_client.read()"
   ]
  },
  {
   "cell_type": "code",
   "execution_count": 187,
   "id": "3aa8bf6d",
   "metadata": {},
   "outputs": [],
   "source": [
    "flipcart_html=bs(flipcart_page,'html.parser')"
   ]
  },
  {
   "cell_type": "code",
   "execution_count": 188,
   "id": "a012ae88",
   "metadata": {},
   "outputs": [
    {
     "data": {
      "text/plain": [
       "'https://www.flipkart.com/apple-iphone-15-blue-128-gb/p/itmbf14ef54f645d?pid=MOBGTAGPAQNVFZZY&lid=LSTMOBGTAGPAQNVFZZYCQQXYH&marketplace=FLIPKART&q=iphone+15&store=tyy%2F4io&srno=s_1_2&otracker=AS_QueryStore_OrganicAutoSuggest_1_1_na_na_na&otracker1=AS_QueryStore_OrganicAutoSuggest_1_1_na_na_na&fm=organic&iid=0c1d1778-2b7d-4eb5-adfd-242f27fa8ed1.MOBGTAGPAQNVFZZY.SEARCH&ppt=hp&ppn=homepage&ssid=imsxr9m6c00000001744569264319&qH=2f54b45b321e3ae5'"
      ]
     },
     "execution_count": 188,
     "metadata": {},
     "output_type": "execute_result"
    }
   ],
   "source": [
    "\"https://www.flipkart.com\"+\"/apple-iphone-15-blue-128-gb/p/itmbf14ef54f645d?pid=MOBGTAGPAQNVFZZY&lid=LSTMOBGTAGPAQNVFZZYCQQXYH&marketplace=FLIPKART&q=iphone+15&store=tyy%2F4io&srno=s_1_2&otracker=AS_QueryStore_OrganicAutoSuggest_1_1_na_na_na&otracker1=AS_QueryStore_OrganicAutoSuggest_1_1_na_na_na&fm=organic&iid=0c1d1778-2b7d-4eb5-adfd-242f27fa8ed1.MOBGTAGPAQNVFZZY.SEARCH&ppt=hp&ppn=homepage&ssid=imsxr9m6c00000001744569264319&qH=2f54b45b321e3ae5\""
   ]
  },
  {
   "cell_type": "code",
   "execution_count": 189,
   "id": "ae3e7622",
   "metadata": {},
   "outputs": [],
   "source": [
    "bigbox=flipcart_html.find_all(\"div\",{\"class\":\"cPHDOP col-12-12\"})"
   ]
  },
  {
   "cell_type": "code",
   "execution_count": 190,
   "id": "42c3d15f",
   "metadata": {},
   "outputs": [
    {
     "data": {
      "text/plain": [
       "30"
      ]
     },
     "execution_count": 190,
     "metadata": {},
     "output_type": "execute_result"
    }
   ],
   "source": [
    "len(bigbox)"
   ]
  },
  {
   "cell_type": "code",
   "execution_count": 192,
   "id": "38f173e7",
   "metadata": {},
   "outputs": [],
   "source": [
    "del bigbox[0:3]"
   ]
  },
  {
   "cell_type": "code",
   "execution_count": 193,
   "id": "1e404c84",
   "metadata": {},
   "outputs": [],
   "source": [
    "product_link=\"https://www.flipkart.com\"+bigbox[3].div.div.div.a['href']"
   ]
  },
  {
   "cell_type": "code",
   "execution_count": 194,
   "id": "efed20c7",
   "metadata": {},
   "outputs": [],
   "source": [
    "product_req= requests.get(product_link)"
   ]
  },
  {
   "cell_type": "code",
   "execution_count": 195,
   "id": "77b13f6b",
   "metadata": {},
   "outputs": [],
   "source": [
    "product_html=bs(product_req.text,'html.parser')"
   ]
  },
  {
   "cell_type": "code",
   "execution_count": 196,
   "id": "80f9b33a",
   "metadata": {},
   "outputs": [],
   "source": [
    "comment_box=product_html.find_all('div',{'class':'RcXBOT'})"
   ]
  },
  {
   "cell_type": "code",
   "execution_count": 197,
   "id": "e180e0f1",
   "metadata": {},
   "outputs": [
    {
     "data": {
      "text/plain": [
       "<div class=\"RcXBOT\"><div class=\"col\"><div class=\"col EPCmJX\"><div class=\"row\"><div class=\"XQDdHH Ga3i8K\">4<img class=\"Rza2QY\" src=\"data:image/svg+xml;base64,PHN2ZyB4bWxucz0iaHR0cDovL3d3dy53My5vcmcvMjAwMC9zdmciIHdpZHRoPSIxMyIgaGVpZ2h0PSIxMiI+PHBhdGggZmlsbD0iI0ZGRiIgZD0iTTYuNSA5LjQzOWwtMy42NzQgMi4yMy45NC00LjI2LTMuMjEtMi44ODMgNC4yNTQtLjQwNEw2LjUuMTEybDEuNjkgNC4wMSA0LjI1NC40MDQtMy4yMSAyLjg4Mi45NCA0LjI2eiIvPjwvc3ZnPg==\"/></div><p class=\"z9E0IG\">Nice product</p></div><div class=\"row\"><div class=\"ZmyHeo\"><div><div class=\"\">Fabulous..... Byutiful 😍👌</div><span class=\"wTYmpv\"><span>READ MORE</span></span></div></div></div><div class=\"xmAgz5 pVVA7t\"><div class=\"Be4x5X d517go\" style=\"background-image:url(https://rukminim1.flixcart.com/blobio/124/124/imr/blobio-imr_d8843200cb30473ebe72e7e67693efc1.jpg?q=90), url(data:image/svg+xml;base64,PHN2ZyB3aWR0aD0iMjIiIGhlaWdodD0iMTgiIHhtbG5zPSJodHRwOi8vd3d3LnczLm9yZy8yMDAwL3N2ZyI+PGcgZmlsbD0iIzlEOUQ5RCIgZmlsbC1ydWxlPSJub256ZXJvIj48cGF0aCBkPSJNMjAgMEgyQzEgMCAwIDEgMCAydjE0YzAgMS4xLjkgMiAyIDJoMThjMSAwIDItMSAyLTJWMmMwLTEtMS0yLTItMnptMCAxNS45MmMtLjAyLjAzLS4wNi4wNi0uMDguMDhIMlYyLjA4TDIuMDggMmgxNy44M2MuMDMuMDIuMDYuMDYuMDguMDh2MTMuODRIMjB6Ii8+PHBhdGggZD0iTTEwIDEyLjUxTDcuNSA5LjUgNCAxNGgxNGwtNC41LTZ6Ii8+PC9nPjwvc3ZnPg==);width:62px;height:62px\"></div><div class=\"Be4x5X d517go\" style=\"background-image:url(https://rukminim1.flixcart.com/blobio/124/124/imr/blobio-imr_1af3a331e813494b807439308726655f.jpg?q=90), url(data:image/svg+xml;base64,PHN2ZyB3aWR0aD0iMjIiIGhlaWdodD0iMTgiIHhtbG5zPSJodHRwOi8vd3d3LnczLm9yZy8yMDAwL3N2ZyI+PGcgZmlsbD0iIzlEOUQ5RCIgZmlsbC1ydWxlPSJub256ZXJvIj48cGF0aCBkPSJNMjAgMEgyQzEgMCAwIDEgMCAydjE0YzAgMS4xLjkgMiAyIDJoMThjMSAwIDItMSAyLTJWMmMwLTEtMS0yLTItMnptMCAxNS45MmMtLjAyLjAzLS4wNi4wNi0uMDguMDhIMlYyLjA4TDIuMDggMmgxNy44M2MuMDMuMDIuMDYuMDYuMDguMDh2MTMuODRIMjB6Ii8+PHBhdGggZD0iTTEwIDEyLjUxTDcuNSA5LjUgNCAxNGgxNGwtNC41LTZ6Ii8+PC9nPjwvc3ZnPg==);width:62px;height:62px\"></div><div class=\"Be4x5X d517go\" style=\"background-image:url(https://rukminim1.flixcart.com/blobio/124/124/imr/blobio-imr_2dfc4046903640f28aebd66bdac0cc29.jpg?q=90), url(data:image/svg+xml;base64,PHN2ZyB3aWR0aD0iMjIiIGhlaWdodD0iMTgiIHhtbG5zPSJodHRwOi8vd3d3LnczLm9yZy8yMDAwL3N2ZyI+PGcgZmlsbD0iIzlEOUQ5RCIgZmlsbC1ydWxlPSJub256ZXJvIj48cGF0aCBkPSJNMjAgMEgyQzEgMCAwIDEgMCAydjE0YzAgMS4xLjkgMiAyIDJoMThjMSAwIDItMSAyLTJWMmMwLTEtMS0yLTItMnptMCAxNS45MmMtLjAyLjAzLS4wNi4wNi0uMDguMDhIMlYyLjA4TDIuMDggMmgxNy44M2MuMDMuMDIuMDYuMDYuMDguMDh2MTMuODRIMjB6Ii8+PHBhdGggZD0iTTEwIDEyLjUxTDcuNSA5LjUgNCAxNGgxNGwtNC41LTZ6Ii8+PC9nPjwvc3ZnPg==);width:62px;height:62px\"></div></div><div class=\"row gHqwa8\"><div class=\"row\"><p class=\"_2NsDsF AwS1CA\">Rupesh Aherkar</p><svg class=\"VjlQyz\" height=\"14\" viewbox=\"0 0 12 12\" width=\"14\" xmlns=\"http://www.w3.org/2000/svg\"><g><circle cx=\"6\" cy=\"6\" fill=\"#878787\" r=\"6\"></circle><path d=\"M3 6l2 2 4-4\" fill=\"#878787\" stroke=\"#FFF\" stroke-width=\"1.5\"></path></g></svg><p class=\"MztJPv\" id=\"review-1d1a0f86-a42a-4ac7-939d-137b1f66c1af\"><span>Certified Buyer</span><span>, Pune District</span></p><div></div><p class=\"_2NsDsF\">7 months ago</p></div><div class=\"vMTK1V\"><div class=\"row\"><div class=\"qhmk-f\"><div class=\"_6kK6mk\"><svg class=\"U6FW-N\" height=\"15\" width=\"20\" xmlns=\"http://www.w3.org/2000/svg\"><path class=\"kX6HBt\" d=\"M9.58.006c-.41.043-.794.32-1.01.728-.277.557-2.334 4.693-2.74 5.1-.41.407-.944.6-1.544.6v8.572h7.5c.45 0 .835-.28 1.007-.665 0 0 2.207-6.234 2.207-6.834 0-.6-.47-1.072-1.07-1.072h-3.216c-.6 0-1.07-.535-1.07-1.07 0-.537.835-3.387 1.006-3.944.17-.557-.107-1.157-.664-1.35-.15-.043-.257-.086-.407-.064zM0 6.434v8.572h2.143V6.434H0z\" fill=\"#fff\" fill-rule=\"evenodd\"></path></svg><span class=\"tl9VpF\">1243</span></div><div class=\"_6kK6mk aQymJL\"><svg class=\"U6FW-N aQymJL\" height=\"15\" width=\"20\" xmlns=\"http://www.w3.org/2000/svg\"><path class=\"kX6HBt\" d=\"M9.58.006c-.41.043-.794.32-1.01.728-.277.557-2.334 4.693-2.74 5.1-.41.407-.944.6-1.544.6v8.572h7.5c.45 0 .835-.28 1.007-.665 0 0 2.207-6.234 2.207-6.834 0-.6-.47-1.072-1.07-1.072h-3.216c-.6 0-1.07-.535-1.07-1.07 0-.537.835-3.387 1.006-3.944.17-.557-.107-1.157-.664-1.35-.15-.043-.257-.086-.407-.064zM0 6.434v8.572h2.143V6.434H0z\" fill=\"#fff\" fill-rule=\"evenodd\"></path></svg><span class=\"tl9VpF\">442</span></div></div><div class=\"_23BI2I\"><svg class=\"qouvgH\" height=\"11\" viewbox=\"0 0 16 27\" width=\"6\" xmlns=\"http://www.w3.org/2000/svg\"><path class=\"wRjFe4\" d=\"M16 23.207L6.11 13.161 16 3.093 12.955 0 0 13.161l12.955 13.161z\" fill=\"#fff\"></path></svg><div class=\"Pg+ADy _0sje3Z\"><div class=\"NsXBt8\"><a href=\"/reviews/MOBH2UPGHDHVG2XY:36?reviewId=1d1a0f86-a42a-4ac7-939d-137b1f66c1af\"><span>Permalink</span></a></div><div class=\"NsXBt8 _1F9SL9\"><span>Report Abuse</span></div></div></div></div></div></div></div></div></div>"
      ]
     },
     "execution_count": 197,
     "metadata": {},
     "output_type": "execute_result"
    }
   ],
   "source": [
    "comment_box[0]"
   ]
  },
  {
   "cell_type": "code",
   "execution_count": 200,
   "id": "3c9e3e23",
   "metadata": {},
   "outputs": [
    {
     "name": "stdout",
     "output_type": "stream",
     "text": [
      "Rupesh Aherkar\n",
      "Vicky Sakharkar\n",
      "Manoj  Topno\n",
      "Rishikesh  Tiwari \n",
      "Joydip  Bhattacharyya\n",
      "jaswant mahawar\n",
      "Sumit Raj Anand\n",
      "Flipkart Customer\n",
      "Vanshita Gour\n",
      "Sachin Jungari\n"
     ]
    },
    {
     "ename": "AttributeError",
     "evalue": "'NoneType' object has no attribute 'div'",
     "output_type": "error",
     "traceback": [
      "\u001b[0;31m---------------------------------------------------------------------------\u001b[0m",
      "\u001b[0;31mAttributeError\u001b[0m                            Traceback (most recent call last)",
      "Cell \u001b[0;32mIn[200], line 2\u001b[0m\n\u001b[1;32m      1\u001b[0m \u001b[38;5;28;01mfor\u001b[39;00m i \u001b[38;5;129;01min\u001b[39;00m comment_box:\n\u001b[0;32m----> 2\u001b[0m    \u001b[38;5;28mprint\u001b[39m(\u001b[43mi\u001b[49m\u001b[38;5;241;43m.\u001b[39;49m\u001b[43mdiv\u001b[49m\u001b[38;5;241;43m.\u001b[39;49m\u001b[43mdiv\u001b[49m\u001b[38;5;241m.\u001b[39mfind_all(\u001b[38;5;124m'\u001b[39m\u001b[38;5;124mp\u001b[39m\u001b[38;5;124m'\u001b[39m,{\u001b[38;5;124m'\u001b[39m\u001b[38;5;124mclass\u001b[39m\u001b[38;5;124m'\u001b[39m:\u001b[38;5;124m'\u001b[39m\u001b[38;5;124m_2NsDsF AwS1CA\u001b[39m\u001b[38;5;124m'\u001b[39m})[\u001b[38;5;241m0\u001b[39m]\u001b[38;5;241m.\u001b[39mtext)\n",
      "\u001b[0;31mAttributeError\u001b[0m: 'NoneType' object has no attribute 'div'"
     ]
    }
   ],
   "source": [
    "for i in comment_box:\n",
    "   print(i.div.div.find_all('p',{'class':'_2NsDsF AwS1CA'})[0].text)"
   ]
  },
  {
   "cell_type": "code",
   "execution_count": 201,
   "id": "494fe4e6",
   "metadata": {},
   "outputs": [
    {
     "name": "stdout",
     "output_type": "stream",
     "text": [
      "4\n",
      "4\n",
      "5\n",
      "5\n",
      "5\n",
      "5\n",
      "5\n",
      "5\n",
      "5\n",
      "5\n"
     ]
    },
    {
     "ename": "AttributeError",
     "evalue": "'NoneType' object has no attribute 'div'",
     "output_type": "error",
     "traceback": [
      "\u001b[0;31m---------------------------------------------------------------------------\u001b[0m",
      "\u001b[0;31mAttributeError\u001b[0m                            Traceback (most recent call last)",
      "Cell \u001b[0;32mIn[201], line 2\u001b[0m\n\u001b[1;32m      1\u001b[0m \u001b[38;5;28;01mfor\u001b[39;00m i \u001b[38;5;129;01min\u001b[39;00m comment_box:\n\u001b[0;32m----> 2\u001b[0m     \u001b[38;5;28mprint\u001b[39m(\u001b[43mi\u001b[49m\u001b[38;5;241;43m.\u001b[39;49m\u001b[43mdiv\u001b[49m\u001b[38;5;241;43m.\u001b[39;49m\u001b[43mdiv\u001b[49m\u001b[38;5;241m.\u001b[39mdiv\u001b[38;5;241m.\u001b[39mdiv\u001b[38;5;241m.\u001b[39mtext)\n",
      "\u001b[0;31mAttributeError\u001b[0m: 'NoneType' object has no attribute 'div'"
     ]
    }
   ],
   "source": [
    "for i in comment_box:\n",
    "    print(i.div.div.div.div.text)\n",
    "\n"
   ]
  },
  {
   "cell_type": "code",
   "execution_count": 175,
   "id": "782204bd",
   "metadata": {},
   "outputs": [
    {
     "name": "stdout",
     "output_type": "stream",
     "text": [
      "Very Good\n",
      "Pretty good\n",
      "Really Nice\n",
      "Awesome\n",
      "Great product\n",
      "Classy product\n",
      "Just okay\n",
      "Simply awesome\n",
      "Nice\n",
      "Delightful\n"
     ]
    },
    {
     "ename": "AttributeError",
     "evalue": "'NoneType' object has no attribute 'div'",
     "output_type": "error",
     "traceback": [
      "\u001b[0;31m---------------------------------------------------------------------------\u001b[0m",
      "\u001b[0;31mAttributeError\u001b[0m                            Traceback (most recent call last)",
      "Cell \u001b[0;32mIn[175], line 2\u001b[0m\n\u001b[1;32m      1\u001b[0m \u001b[38;5;28;01mfor\u001b[39;00m i \u001b[38;5;129;01min\u001b[39;00m comment_box:\n\u001b[0;32m----> 2\u001b[0m     \u001b[38;5;28mprint\u001b[39m(\u001b[43mi\u001b[49m\u001b[38;5;241;43m.\u001b[39;49m\u001b[43mdiv\u001b[49m\u001b[38;5;241;43m.\u001b[39;49m\u001b[43mdiv\u001b[49m\u001b[38;5;241m.\u001b[39mdiv\u001b[38;5;241m.\u001b[39mp\u001b[38;5;241m.\u001b[39mtext)\n",
      "\u001b[0;31mAttributeError\u001b[0m: 'NoneType' object has no attribute 'div'"
     ]
    }
   ],
   "source": [
    "for i in comment_box:\n",
    "    print(i.div.div.div.p.text)"
   ]
  },
  {
   "cell_type": "code",
   "execution_count": 178,
   "id": "04f0eb66",
   "metadata": {},
   "outputs": [
    {
     "data": {
      "text/plain": [
       "'https://www.flipkart.com/redmi-note-13-5g-arctic-white-256-gb/p/itm82475e073eb2e?pid=MOBGXFFMY54GVFCJ&lid=LSTMOBGXFFMY54GVFCJAJUDAE&marketplace=FLIPKART&q=redmi&store=tyy%2F4io&srno=s_1_5&otracker=search&fm=organic&iid=c563d9e3-643a-4ec8-b642-5ccc7f29644f.MOBGXFFMY54GVFCJ.SEARCH&ppt=None&ppn=None&ssid=4ndupdibhs0000001744742149889&qH=9b6bf0057c19bd94'"
      ]
     },
     "execution_count": 178,
     "metadata": {},
     "output_type": "execute_result"
    }
   ],
   "source": [
    "product_link"
   ]
  },
  {
   "cell_type": "code",
   "execution_count": null,
   "id": "c05d08e0",
   "metadata": {},
   "outputs": [],
   "source": []
  },
  {
   "cell_type": "code",
   "execution_count": null,
   "id": "a6177e78",
   "metadata": {},
   "outputs": [],
   "source": []
  },
  {
   "cell_type": "code",
   "execution_count": null,
   "id": "e692c92c",
   "metadata": {},
   "outputs": [],
   "source": []
  },
  {
   "cell_type": "code",
   "execution_count": null,
   "id": "add76185",
   "metadata": {},
   "outputs": [],
   "source": []
  },
  {
   "cell_type": "code",
   "execution_count": null,
   "id": "c3e6d22c",
   "metadata": {},
   "outputs": [],
   "source": []
  },
  {
   "cell_type": "code",
   "execution_count": 110,
   "id": "9f379112",
   "metadata": {},
   "outputs": [
    {
     "name": "stdout",
     "output_type": "stream",
     "text": [
      "https://www.flipkart.com/apple-iphone-15-blue-128-gb/p/itmbf14ef54f645d?pid=MOBGTAGPAQNVFZZY&lid=LSTMOBGTAGPAQNVFZZYCQQXYH&marketplace=FLIPKART&q=iphone15&store=tyy%2F4io&srno=s_1_2&otracker=search&fm=organic&iid=5631cee5-2bd0-42e9-a599-53dfd29d2a69.MOBGTAGPAQNVFZZY.SEARCH&ppt=None&ppn=None&ssid=6wwf3hpr5c0000001744616399839&qH=1827ac0d826493c5\n",
      "https://www.flipkart.com/apple-iphone-15-pink-256-gb/p/itm7579ed94ca647?pid=MOBGTAGPFDXBQ9BH&lid=LSTMOBGTAGPFDXBQ9BHQXXTMI&marketplace=FLIPKART&q=iphone15&store=tyy%2F4io&srno=s_1_3&otracker=search&fm=organic&iid=5631cee5-2bd0-42e9-a599-53dfd29d2a69.MOBGTAGPFDXBQ9BH.SEARCH&ppt=None&ppn=None&ssid=6wwf3hpr5c0000001744616399839&qH=1827ac0d826493c5\n",
      "https://www.flipkart.com/apple-iphone-15-pink-128-gb/p/itm7579ed94ca647?pid=MOBGTAGPNMZA5PU5&lid=LSTMOBGTAGPNMZA5PU5AVZNIR&marketplace=FLIPKART&q=iphone15&store=tyy%2F4io&srno=s_1_4&otracker=search&fm=organic&iid=5631cee5-2bd0-42e9-a599-53dfd29d2a69.MOBGTAGPNMZA5PU5.SEARCH&ppt=None&ppn=None&ssid=6wwf3hpr5c0000001744616399839&qH=1827ac0d826493c5\n",
      "https://www.flipkart.com/apple-iphone-15-black-256-gb/p/itm6ac6485515ae4?pid=MOBGTAGPSMHFKHT5&lid=LSTMOBGTAGPSMHFKHT5QSQH4U&marketplace=FLIPKART&q=iphone15&store=tyy%2F4io&srno=s_1_5&otracker=search&fm=organic&iid=5631cee5-2bd0-42e9-a599-53dfd29d2a69.MOBGTAGPSMHFKHT5.SEARCH&ppt=None&ppn=None&ssid=6wwf3hpr5c0000001744616399839&qH=1827ac0d826493c5\n",
      "https://www.flipkart.com/apple-iphone-15-blue-256-gb/p/itmbf14ef54f645d?pid=MOBGTAGPNEZZY2YR&lid=LSTMOBGTAGPNEZZY2YRBHLKCU&marketplace=FLIPKART&q=iphone15&store=tyy%2F4io&srno=s_1_6&otracker=search&fm=organic&iid=5631cee5-2bd0-42e9-a599-53dfd29d2a69.MOBGTAGPNEZZY2YR.SEARCH&ppt=None&ppn=None&ssid=6wwf3hpr5c0000001744616399839&qH=1827ac0d826493c5\n",
      "https://www.flipkart.com/apple-iphone-15-blue-512-gb/p/itmbf14ef54f645d?pid=MOBGTAGPQMKPVK7Q&lid=LSTMOBGTAGPQMKPVK7QVLLTUB&marketplace=FLIPKART&q=iphone15&store=tyy%2F4io&srno=s_1_7&otracker=search&fm=organic&iid=5631cee5-2bd0-42e9-a599-53dfd29d2a69.MOBGTAGPQMKPVK7Q.SEARCH&ppt=None&ppn=None&ssid=6wwf3hpr5c0000001744616399839&qH=1827ac0d826493c5\n",
      "https://www.flipkart.com/apple-iphone-15-black-512-gb/p/itm6ac6485515ae4?pid=MOBGTAGPEXNGM7BM&lid=LSTMOBGTAGPEXNGM7BMOE3LR2&marketplace=FLIPKART&q=iphone15&store=tyy%2F4io&srno=s_1_8&otracker=search&fm=organic&iid=5631cee5-2bd0-42e9-a599-53dfd29d2a69.MOBGTAGPEXNGM7BM.SEARCH&ppt=None&ppn=None&ssid=6wwf3hpr5c0000001744616399839&qH=1827ac0d826493c5\n",
      "https://www.flipkart.com/apple-iphone-15-pink-512-gb/p/itm7579ed94ca647?pid=MOBGTAGPASPYHVXZ&lid=LSTMOBGTAGPASPYHVXZTWY3GR&marketplace=FLIPKART&q=iphone15&store=tyy%2F4io&srno=s_1_9&otracker=search&fm=organic&iid=5631cee5-2bd0-42e9-a599-53dfd29d2a69.MOBGTAGPASPYHVXZ.SEARCH&ppt=None&ppn=None&ssid=6wwf3hpr5c0000001744616399839&qH=1827ac0d826493c5\n",
      "https://www.flipkart.com/apple-iphone-15-green-128-gb/p/itm235cd318bde73?pid=MOBGTAGPYYWZRUJX&lid=LSTMOBGTAGPYYWZRUJXXIP6YM&marketplace=FLIPKART&q=iphone15&store=tyy%2F4io&srno=s_1_10&otracker=search&fm=organic&iid=5631cee5-2bd0-42e9-a599-53dfd29d2a69.MOBGTAGPYYWZRUJX.SEARCH&ppt=None&ppn=None&ssid=6wwf3hpr5c0000001744616399839&qH=1827ac0d826493c5\n",
      "https://www.flipkart.com/apple-iphone-15-yellow-128-gb/p/itm825e4ad0b80ca?pid=MOBGTAGPDTKHHHZU&lid=LSTMOBGTAGPDTKHHHZUTQZRMS&marketplace=FLIPKART&q=iphone15&store=tyy%2F4io&srno=s_1_11&otracker=search&fm=organic&iid=5631cee5-2bd0-42e9-a599-53dfd29d2a69.MOBGTAGPDTKHHHZU.SEARCH&ppt=None&ppn=None&ssid=6wwf3hpr5c0000001744616399839&qH=1827ac0d826493c5\n",
      "https://www.flipkart.com/apple-iphone-15-yellow-256-gb/p/itm825e4ad0b80ca?pid=MOBGTAGPCNEPMZTB&lid=LSTMOBGTAGPCNEPMZTB8DO0AA&marketplace=FLIPKART&q=iphone15&store=tyy%2F4io&srno=s_1_12&otracker=search&fm=organic&iid=5631cee5-2bd0-42e9-a599-53dfd29d2a69.MOBGTAGPCNEPMZTB.SEARCH&ppt=None&ppn=None&ssid=6wwf3hpr5c0000001744616399839&qH=1827ac0d826493c5\n",
      "https://www.flipkart.com/apple-iphone-15-green-512-gb/p/itm235cd318bde73?pid=MOBGTAGPZVBANCKG&lid=LSTMOBGTAGPZVBANCKGQDUOYO&marketplace=FLIPKART&q=iphone15&store=tyy%2F4io&srno=s_1_13&otracker=search&fm=organic&iid=5631cee5-2bd0-42e9-a599-53dfd29d2a69.MOBGTAGPZVBANCKG.SEARCH&ppt=None&ppn=None&ssid=6wwf3hpr5c0000001744616399839&qH=1827ac0d826493c5\n",
      "https://www.flipkart.com/apple-iphone-15-plus-black-128-gb/p/itm6ac6485515ae4?pid=MOBGTAGPNRQA7CS3&lid=LSTMOBGTAGPNRQA7CS3YEKCQO&marketplace=FLIPKART&q=iphone15&store=tyy%2F4io&srno=s_1_14&otracker=search&fm=organic&iid=5631cee5-2bd0-42e9-a599-53dfd29d2a69.MOBGTAGPNRQA7CS3.SEARCH&ppt=None&ppn=None&ssid=6wwf3hpr5c0000001744616399839&qH=1827ac0d826493c5\n",
      "https://www.flipkart.com/apple-iphone-15-plus-pink-128-gb/p/itm7579ed94ca647?pid=MOBGTAGPXUWEXXWY&lid=LSTMOBGTAGPXUWEXXWYKVXCUT&marketplace=FLIPKART&q=iphone15&store=tyy%2F4io&srno=s_1_15&otracker=search&fm=organic&iid=5631cee5-2bd0-42e9-a599-53dfd29d2a69.MOBGTAGPXUWEXXWY.SEARCH&ppt=None&ppn=None&ssid=6wwf3hpr5c0000001744616399839&qH=1827ac0d826493c5\n",
      "https://www.flipkart.com/apple-iphone-15-plus-pink-256-gb/p/itm7579ed94ca647?pid=MOBGTAGPKKYDGYYQ&lid=LSTMOBGTAGPKKYDGYYQTTRA42&marketplace=FLIPKART&q=iphone15&store=tyy%2F4io&srno=s_1_16&otracker=search&fm=organic&iid=5631cee5-2bd0-42e9-a599-53dfd29d2a69.MOBGTAGPKKYDGYYQ.SEARCH&ppt=None&ppn=None&ssid=6wwf3hpr5c0000001744616399839&qH=1827ac0d826493c5\n",
      "https://www.flipkart.com/apple-iphone-15-plus-blue-128-gb/p/itmbf14ef54f645d?pid=MOBGTAGPE4F2HAW7&lid=LSTMOBGTAGPE4F2HAW7WFN3UG&marketplace=FLIPKART&q=iphone15&store=tyy%2F4io&srno=s_1_17&otracker=search&fm=organic&iid=5631cee5-2bd0-42e9-a599-53dfd29d2a69.MOBGTAGPE4F2HAW7.SEARCH&ppt=None&ppn=None&ssid=6wwf3hpr5c0000001744616399839&qH=1827ac0d826493c5\n",
      "https://www.flipkart.com/apple-iphone-15-plus-blue-256-gb/p/itmbf14ef54f645d?pid=MOBGTAGPZXR7SRP6&lid=LSTMOBGTAGPZXR7SRP6LPK3EE&marketplace=FLIPKART&q=iphone15&store=tyy%2F4io&srno=s_1_18&otracker=search&fm=organic&iid=5631cee5-2bd0-42e9-a599-53dfd29d2a69.MOBGTAGPZXR7SRP6.SEARCH&ppt=None&ppn=None&ssid=6wwf3hpr5c0000001744616399839&qH=1827ac0d826493c5\n",
      "https://www.flipkart.com/apple-iphone-15-pro-max-white-titanium-512-gb/p/itmbc976875d6658?pid=MOBGTAGQWDVBNC5Y&lid=LSTMOBGTAGQWDVBNC5YYRG7S0&marketplace=FLIPKART&q=iphone15&store=tyy%2F4io&srno=s_1_19&otracker=search&fm=organic&iid=5631cee5-2bd0-42e9-a599-53dfd29d2a69.MOBGTAGQWDVBNC5Y.SEARCH&ppt=None&ppn=None&ssid=6wwf3hpr5c0000001744616399839&qH=1827ac0d826493c5\n",
      "https://www.flipkart.com/apple-iphone-15-pro-max-natural-titanium-512-gb/p/itm9d44960698192?pid=MOBGTAGQWHVD9V2K&lid=LSTMOBGTAGQWHVD9V2KYQWPMY&marketplace=FLIPKART&q=iphone15&store=tyy%2F4io&srno=s_1_20&otracker=search&fm=organic&iid=5631cee5-2bd0-42e9-a599-53dfd29d2a69.MOBGTAGQWHVD9V2K.SEARCH&ppt=None&ppn=None&ssid=6wwf3hpr5c0000001744616399839&qH=1827ac0d826493c5\n",
      "https://www.flipkart.com/apple-iphone-15-pro-blue-titanium-128-gb/p/itmcba9124f132a8?pid=MOBGTAGPBBA6ZBT9&lid=LSTMOBGTAGPBBA6ZBT9FRB7BN&marketplace=FLIPKART&q=iphone15&store=tyy%2F4io&srno=s_1_21&otracker=search&fm=organic&iid=5631cee5-2bd0-42e9-a599-53dfd29d2a69.MOBGTAGPBBA6ZBT9.SEARCH&ppt=None&ppn=None&ssid=6wwf3hpr5c0000001744616399839&qH=1827ac0d826493c5\n",
      "https://www.flipkart.com/apple-iphone-16-black-128-gb/p/itmb07d67f995271?pid=MOBH4DQFG8NKFRDY&lid=LSTMOBH4DQFG8NKFRDYKOOGZ6&marketplace=FLIPKART&q=iphone15&store=tyy%2F4io&spotlightTagId=default_BestsellerId_tyy%2F4io&srno=s_1_22&otracker=search&fm=organic&iid=5631cee5-2bd0-42e9-a599-53dfd29d2a69.MOBH4DQFG8NKFRDY.SEARCH&ppt=None&ppn=None&ssid=6wwf3hpr5c0000001744616399839&qH=1827ac0d826493c5\n",
      "https://www.flipkart.com/apple-iphone-13-starlight-128-gb/p/itmc9604f122ae7f?pid=MOBG6VF5ADKHKXFX&lid=LSTMOBG6VF5ADKHKXFX4LCPEV&marketplace=FLIPKART&q=iphone15&store=tyy%2F4io&srno=s_1_23&otracker=search&fm=organic&iid=5631cee5-2bd0-42e9-a599-53dfd29d2a69.MOBG6VF5ADKHKXFX.SEARCH&ppt=None&ppn=None&ssid=6wwf3hpr5c0000001744616399839&qH=1827ac0d826493c5\n",
      "https://www.flipkart.com/apple-iphone-16-ultramarine-128-gb/p/itmcc210cae43fba?pid=MOBH4DQFYZT6EH2F&lid=LSTMOBH4DQFYZT6EH2FP6PUJU&marketplace=FLIPKART&q=iphone15&store=tyy%2F4io&srno=s_1_24&otracker=search&fm=organic&iid=5631cee5-2bd0-42e9-a599-53dfd29d2a69.MOBH4DQFYZT6EH2F.SEARCH&ppt=None&ppn=None&ssid=6wwf3hpr5c0000001744616399839&qH=1827ac0d826493c5\n"
     ]
    },
    {
     "ename": "AttributeError",
     "evalue": "'NoneType' object has no attribute 'a'",
     "output_type": "error",
     "traceback": [
      "\u001b[0;31m---------------------------------------------------------------------------\u001b[0m",
      "\u001b[0;31mAttributeError\u001b[0m                            Traceback (most recent call last)",
      "Cell \u001b[0;32mIn[110], line 2\u001b[0m\n\u001b[1;32m      1\u001b[0m \u001b[38;5;28;01mfor\u001b[39;00m i \u001b[38;5;129;01min\u001b[39;00m bigbox:\n\u001b[0;32m----> 2\u001b[0m     \u001b[38;5;28mprint\u001b[39m(\u001b[38;5;124m\"\u001b[39m\u001b[38;5;124mhttps://www.flipkart.com\u001b[39m\u001b[38;5;124m\"\u001b[39m\u001b[38;5;241m+\u001b[39m\u001b[43mi\u001b[49m\u001b[38;5;241;43m.\u001b[39;49m\u001b[43mdiv\u001b[49m\u001b[38;5;241;43m.\u001b[39;49m\u001b[43mdiv\u001b[49m\u001b[38;5;241;43m.\u001b[39;49m\u001b[43mdiv\u001b[49m\u001b[38;5;241;43m.\u001b[39;49m\u001b[43ma\u001b[49m[\u001b[38;5;124m'\u001b[39m\u001b[38;5;124mhref\u001b[39m\u001b[38;5;124m'\u001b[39m])\n",
      "\u001b[0;31mAttributeError\u001b[0m: 'NoneType' object has no attribute 'a'"
     ]
    }
   ],
   "source": [
    "for i in bigbox:\n",
    "    print(\"https://www.flipkart.com\"+i.div.div.div.a['href'])\n"
   ]
  },
  {
   "cell_type": "code",
   "execution_count": null,
   "id": "1128b7f2",
   "metadata": {},
   "outputs": [],
   "source": []
  }
 ],
 "metadata": {
  "kernelspec": {
   "display_name": "Python 3",
   "language": "python",
   "name": "python3"
  },
  "language_info": {
   "codemirror_mode": {
    "name": "ipython",
    "version": 3
   },
   "file_extension": ".py",
   "mimetype": "text/x-python",
   "name": "python",
   "nbconvert_exporter": "python",
   "pygments_lexer": "ipython3",
   "version": "3.9.6"
  }
 },
 "nbformat": 4,
 "nbformat_minor": 5
}
